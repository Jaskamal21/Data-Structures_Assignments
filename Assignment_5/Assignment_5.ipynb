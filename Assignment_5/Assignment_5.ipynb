{
 "cells": [
  {
   "cell_type": "code",
   "execution_count": 1,
   "id": "a3abd264-ff26-4efa-aba4-507b4159d2d4",
   "metadata": {},
   "outputs": [
    {
     "name": "stdout",
     "output_type": "stream",
     "text": [
      "<Stack (3 elements): ['C', 'B', 'A']>\n",
      "C\n",
      "<Stack (2 elements): ['B', 'A']>\n",
      "B\n",
      "<Stack (1 elements): ['A']>\n",
      "A\n",
      "<Stack (0 elements): []>\n",
      "None\n"
     ]
    }
   ],
   "source": [
    "class Node:\n",
    "    def __init__(self, data):\n",
    "        self.data = data\n",
    "        self.next = None\n",
    "\n",
    "class Stack:\n",
    "    def __init__(self):\n",
    "        self._top = None\n",
    "        self._size = 0\n",
    "\n",
    "    def push(self, value):\n",
    "        new_node = Node(value)\n",
    "        new_node.next = self._top\n",
    "        self._top = new_node\n",
    "        self._size += 1\n",
    "\n",
    "    def pop(self):\n",
    "        if self._top is None:\n",
    "            return None\n",
    "        \n",
    "        popped_value = self._top.data\n",
    "        self._top = self._top.next\n",
    "        self._size -= 1\n",
    "        return popped_value\n",
    "\n",
    "    def __repr__(self):\n",
    "        elements = [node.data for node in self]\n",
    "        return f'<Stack ({self._size} elements): {elements}>'\n",
    "\n",
    "    def __iter__(self):\n",
    "        current = self._top\n",
    "        while current:\n",
    "            yield current\n",
    "            current = current.next\n",
    "\n",
    "stack = Stack()\n",
    "stack.push('A')\n",
    "stack.push('B')\n",
    "stack.push('C')\n",
    "print(stack)\n",
    "\n",
    "print(stack.pop())\n",
    "print(stack)\n",
    "\n",
    "print(stack.pop())\n",
    "print(stack)\n",
    "\n",
    "print(stack.pop())\n",
    "print(stack)\n",
    "\n",
    "print(stack.pop())\n",
    "\n"
   ]
  },
  {
   "cell_type": "code",
   "execution_count": null,
   "id": "aebd6e79-2855-4663-88c3-0fd975e94526",
   "metadata": {},
   "outputs": [],
   "source": []
  }
 ],
 "metadata": {
  "kernelspec": {
   "display_name": "Python 3 (ipykernel)",
   "language": "python",
   "name": "python3"
  },
  "language_info": {
   "codemirror_mode": {
    "name": "ipython",
    "version": 3
   },
   "file_extension": ".py",
   "mimetype": "text/x-python",
   "name": "python",
   "nbconvert_exporter": "python",
   "pygments_lexer": "ipython3",
   "version": "3.12.7"
  }
 },
 "nbformat": 4,
 "nbformat_minor": 5
}
